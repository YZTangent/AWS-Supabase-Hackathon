{
 "cells": [
  {
   "cell_type": "markdown",
   "metadata": {
    "pycharm": {
     "name": "#%% md\n"
    }
   },
   "source": [
    "# Agents for Amazon Bedrock - create agent\n",
    "\n",
    "This notebook provides sample code for building an Agent for Amazon Bedrock that has an Action Group attached to it.\n",
    "\n",
    "### Use Case\n",
    "We will create a restaurant assistant that allows customers to create, delete or get reservation information. The architecture looks as following:\n",
    "\n",
    "![Agent Architecture](./images/agent-architecture_1.png)\n",
    "\n",
    "### Notebook Walk-through\n",
    "\n",
    "In this notebook we will:\n",
    "- Choose our Agent's underline foundation model\n",
    "- Create a dynamoDB table to store the reservation details\n",
    "- Create a lambda function that handles the restaurant bookings\n",
    "- Create an agent\n",
    "- Create an action group and associate it with the agent\n",
    "- Test the agent invocation\n",
    "\n",
    "\n",
    "### Next Steps: \n",
    "In the next lab, we will add a Knowledge Base to our agent and work with Prompt Attributes to provide extra information to an agent invocation call\n"
   ]
  },
  {
   "cell_type": "markdown",
   "metadata": {
    "pycharm": {
     "name": "#%% md\n"
    }
   },
   "source": [
    "### Pre-requisites\n",
    "This notebook requires permissions to:\n",
    "- create and delete Amazon IAM roles\n",
    "- create lambda functions\n",
    "- create dynamoDB tables\n",
    "- access Amazon Bedrock\n",
    "\n",
    "If running on SageMaker Studio, you should add the following managed policies to your role:\n",
    "- IAMFullAccess\n",
    "- AWSLambda_FullAccess\n",
    "- AmazonBedrockFullAccess\n",
    "- AmazonDynamoDBFullAccess\n",
    "\n",
    "<div class=\"alert alert-block alert-info\">\n",
    "<b>Note:</b> Please make sure to enable `Anthropic Claude 3 Sonnet` model access in Amazon Bedrock Console, as the notebook will use Anthropic Claude 3 Sonnet model for testing the agent once its created.\n",
    "</div>\n"
   ]
  },
  {
   "cell_type": "markdown",
   "metadata": {
    "pycharm": {
     "name": "#%% md\n"
    }
   },
   "source": [
    "## Setup\n",
    "Before running the rest of this notebook, you'll need to run the cells below to ensure necessary libraries are installed"
   ]
  },
  {
   "cell_type": "code",
   "execution_count": 1,
   "metadata": {
    "pycharm": {
     "name": "#%%\n"
    }
   },
   "outputs": [],
   "source": [
    "!pip install --upgrade -q -r requirements.txt"
   ]
  },
  {
   "cell_type": "markdown",
   "metadata": {
    "pycharm": {
     "name": "#%% md\n"
    }
   },
   "source": [
    "Let's now import the necessary libraries and initiate the required boto3 clients"
   ]
  },
  {
   "cell_type": "code",
   "execution_count": 2,
   "metadata": {
    "pycharm": {
     "name": "#%%\n"
    }
   },
   "outputs": [],
   "source": [
    "import time\n",
    "import boto3\n",
    "import logging\n",
    "import ipywidgets as widgets\n",
    "import uuid\n",
    "\n",
    "from agent import create_agent_role, create_lambda_role\n",
    "from agent import create_dynamodb, create_lambda, invoke_agent_helper"
   ]
  },
  {
   "cell_type": "code",
   "execution_count": 3,
   "metadata": {
    "pycharm": {
     "name": "#%%\n"
    }
   },
   "outputs": [
    {
     "data": {
      "text/plain": [
       "('us-west-2', '165000421549')"
      ]
     },
     "execution_count": 3,
     "metadata": {},
     "output_type": "execute_result"
    }
   ],
   "source": [
    "#Clients\n",
    "s3_client = boto3.client('s3')\n",
    "sts_client = boto3.client('sts')\n",
    "session = boto3.session.Session()\n",
    "region = session.region_name\n",
    "account_id = sts_client.get_caller_identity()[\"Account\"]\n",
    "bedrock_agent_client = boto3.client('bedrock-agent')\n",
    "bedrock_agent_runtime_client = boto3.client('bedrock-agent-runtime')\n",
    "logging.basicConfig(format='[%(asctime)s] p%(process)s {%(filename)s:%(lineno)d} %(levelname)s - %(message)s', level=logging.INFO)\n",
    "logger = logging.getLogger(__name__)\n",
    "region, account_id"
   ]
  },
  {
   "cell_type": "markdown",
   "metadata": {
    "pycharm": {
     "name": "#%% md\n"
    }
   },
   "source": [
    "### Setting up Agent's information\n",
    "\n",
    "We will now set the variables that define our agent:\n",
    "\n",
    "- **agent_name**: provides the name of the agent to be created, in this case `booking-agent`\n",
    "- **agent_description**: the description of the agent used to display the agents list on the console. This description is **not** part of the agent's prompts\n",
    "- **agent_instruction**: the instructions of what the agent should and should not do. This description is part of the agent's prompt and is used during the agent's invocation\n",
    "- **agent_action_group_name**: the action group name used on the definition of the agent's action, in this case `TableBookingsActionGroup`.\n",
    "- **agent_action_group_description:**: the description of the action group name used on the UI to list the action groups. This description is **not** used by the agent's prompts"
   ]
  },
  {
   "cell_type": "code",
   "execution_count": 4,
   "metadata": {
    "pycharm": {
     "name": "#%%\n"
    }
   },
   "outputs": [],
   "source": [
    "suffix = f\"{region}-{account_id}\"\n",
    "agent_name = 'scheduling-agent'\n",
    "agent_bedrock_allow_policy_name = f\"{agent_name}-ba\"\n",
    "agent_role_name = f'AmazonBedrockExecutionRoleForAgents_{agent_name}'\n",
    "\n",
    "agent_description = \"Agent in charge of managing schedule conflicts and arranging suitable times for meetings\"\n",
    "agent_instruction = \"\"\"\n",
    "You are a schedule management agent, in charge of tracking user availabilities, creating events, tracking user RSVP to events, and suggesting optimal times for events based on the availability of users who RSVP'ed.\n",
    "\"\"\"\n",
    "\n",
    "agent_action_group_description = \"\"\"\n",
    "Actions for setting user availability, creating events, setting user RSVP, and suggesting a meeting time\"\"\"\n",
    "\n",
    "agent_action_group_name = \"ScheduleMeetingActionGroup\""
   ]
  },
  {
   "cell_type": "markdown",
   "metadata": {
    "pycharm": {
     "name": "#%% md\n"
    }
   },
   "source": [
    "### Select Foundation Model\n",
    "Use this dropdown menu to select the underline model of your agent. You can find more information about the supported foundation models [here](https://docs.aws.amazon.com/bedrock/latest/userguide/agents-supported.html)"
   ]
  },
  {
   "cell_type": "code",
   "execution_count": 6,
   "metadata": {
    "pycharm": {
     "name": "#%%\n"
    }
   },
   "outputs": [
    {
     "data": {
      "application/vnd.jupyter.widget-view+json": {
       "model_id": "becb0357df794e66a1924def2495b06a",
       "version_major": 2,
       "version_minor": 0
      },
      "text/plain": [
       "Dropdown(description='FM:', options=(('Claude 3 Sonnet', 'anthropic.claude-3-sonnet-20240229-v1:0'), ('Claude …"
      ]
     },
     "execution_count": 6,
     "metadata": {},
     "output_type": "execute_result"
    }
   ],
   "source": [
    "agent_foundation_model_selector = widgets.Dropdown(\n",
    "    options=[\n",
    "        ('Claude 3 Sonnet', 'anthropic.claude-3-sonnet-20240229-v1:0'),\n",
    "        ('Claude 3 Haiku', 'anthropic.claude-3-haiku-20240307-v1:0')\n",
    "    ],\n",
    "    value='anthropic.claude-3-sonnet-20240229-v1:0',\n",
    "    description='FM:',\n",
    "    disabled=False,\n",
    ")\n",
    "agent_foundation_model_selector"
   ]
  },
  {
   "cell_type": "markdown",
   "metadata": {
    "pycharm": {
     "name": "#%% md\n"
    }
   },
   "source": [
    "Let's confirm that the model has been selected correctly"
   ]
  },
  {
   "cell_type": "code",
   "execution_count": 7,
   "metadata": {
    "pycharm": {
     "name": "#%%\n"
    }
   },
   "outputs": [
    {
     "data": {
      "text/plain": [
       "'anthropic.claude-3-sonnet-20240229-v1:0'"
      ]
     },
     "execution_count": 7,
     "metadata": {},
     "output_type": "execute_result"
    }
   ],
   "source": [
    "agent_foundation_model = agent_foundation_model_selector.value\n",
    "agent_foundation_model"
   ]
  },
  {
   "cell_type": "markdown",
   "metadata": {
    "pycharm": {
     "name": "#%% md\n"
    }
   },
   "source": [
    "### Creating DynamoDB table\n",
    "\n",
    "Let's now create an [Amazon DynamoDB](https://aws.amazon.com/dynamodb/) table called `restaurant_bookings`. This table will store information about the reservations, including a `booking_id`, reservation `date`, the `name` of the person doing the reservation, the `hour` of the reservation and the number of guests as `num_guests`. To do so, we use the `create_dynamodb` function from the `agent.py` file. This function will support the creation of the table and its requirements (IAM roles and permissions)."
   ]
  },
  {
   "cell_type": "code",
   "execution_count": 8,
   "metadata": {
    "pycharm": {
     "name": "#%%\n"
    }
   },
   "outputs": [],
   "source": [
    "# table_name = 'restaurant_bookings'\n",
    "# create_dynamodb(table_name)"
   ]
  },
  {
   "cell_type": "markdown",
   "metadata": {
    "pycharm": {
     "name": "#%% md\n"
    }
   },
   "source": [
    "### Creating Lambda Function\n",
    "\n",
    "Next we will create the [AWS Lambda](https://aws.amazon.com/lambda/) function that executes the actions for our agent. This lambda function will have 3 actions:\n",
    "* ```get_booking_details(booking_id)```: returns the details of a booking based on the booking id\n",
    "* ```create_booking(date, name, hour, num_guests)```: creates a new booking for the restaurant\n",
    "* ```delete_booking(booking_id)```: deletes an existent booking based on the booking id\n",
    "\n",
    "\n",
    "The `lambda_handler` receives the `event` from the agent and the `event` contains information about the `function` to be executed and its `parameters`. \n",
    "\n",
    "A `functionResponse` is returned by the lambda function with the response body having a `TEXT` field.\n",
    "\n",
    "You can find more information on how to set your agent lambda function [here](https://docs.aws.amazon.com/bedrock/latest/userguide/agents-lambda.html).\n",
    "\n",
    "Let's first write the code of the lambda function to the `lambda_function.py` file"
   ]
  },
  {
   "cell_type": "code",
   "execution_count": 13,
   "metadata": {
    "pycharm": {
     "name": "#%%\n"
    }
   },
   "outputs": [
    {
     "name": "stdout",
     "output_type": "stream",
     "text": [
      "Writing lambda_function.py\n"
     ]
    }
   ],
   "source": [
    "%%writefile lambda_function.py\n",
    "import os\n",
    "import json\n",
    "from supabase import create_client, Client\n",
    "from datetime import datetime, timedelta\n",
    "\n",
    "# Initialize Supabase client\n",
    "url: str = os.environ.get(\"SUPABASE_URL\")\n",
    "key: str = os.environ.get(\"SUPABASE_KEY\")\n",
    "supabase: Client = create_client(url, key)\n",
    "\n",
    "def get_named_parameter(event, name):\n",
    "    \"\"\"\n",
    "    Get a parameter from the lambda event\n",
    "    \"\"\"\n",
    "    return next(item for item in event['parameters'] if item['name'] == name)['value']\n",
    "\n",
    "def create_event(group_id, period, description):\n",
    "    \"\"\"\n",
    "    Create a new event\n",
    "    \n",
    "    Args:\n",
    "        group_id (string): The ID of the group creating the event\n",
    "        period (string): The period for the event (e.g., \"2023-07-01 to 2023-07-07\")\n",
    "        description (string): Description of the event\n",
    "    \"\"\"\n",
    "    try:\n",
    "        data, count = supabase.table('events').insert({\n",
    "            'groupID': group_id,\n",
    "            'period': period,\n",
    "            'description': description,\n",
    "            'confirmedTime': None  # This will be updated later when RSVP is processed\n",
    "        }).execute()\n",
    "        \n",
    "        return {'eventID': data[1][0]['eventID']}\n",
    "    except Exception as e:\n",
    "        return {'error': str(e)}\n",
    "\n",
    "def indicate_availability(user_id, event_id, start_time, end_time):\n",
    "    \"\"\"\n",
    "    Indicate a user's availability for an event\n",
    "    \n",
    "    Args:\n",
    "        user_id (string): The ID of the user\n",
    "        event_id (string): The ID of the event\n",
    "        start_time (string): The start time of the availability\n",
    "        end_time (string): The end time of the availability\n",
    "    \"\"\"\n",
    "    try:\n",
    "        data, count = supabase.table('availabilities').insert({\n",
    "            'userID': user_id,\n",
    "            'eventID': event_id,\n",
    "            'startTime': start_time,\n",
    "            'endTime': end_time\n",
    "        }).execute()\n",
    "        \n",
    "        return {'message': 'Availability recorded successfully'}\n",
    "    except Exception as e:\n",
    "        return {'error': str(e)}\n",
    "\n",
    "def find_best_time(event_id):\n",
    "    \"\"\"\n",
    "    Find the time with the greatest overlapping time ranges for an event\n",
    "    \n",
    "    Args:\n",
    "        event_id (string): The ID of the event\n",
    "    \"\"\"\n",
    "    try:\n",
    "        # Fetch all availabilities for the event\n",
    "        data, count = supabase.table('availabilities').select('*').eq('eventID', event_id).execute()\n",
    "        availabilities = data[1]\n",
    "\n",
    "        if not availabilities:\n",
    "            return None\n",
    "\n",
    "        # Convert string times to datetime objects\n",
    "        for avail in availabilities:\n",
    "            avail['startTime'] = datetime.fromisoformat(avail['startTime'])\n",
    "            avail['endTime'] = datetime.fromisoformat(avail['endTime'])\n",
    "\n",
    "        # Find the overall start and end times\n",
    "        start_time = min(avail['startTime'] for avail in availabilities)\n",
    "        end_time = max(avail['endTime'] for avail in availabilities)\n",
    "\n",
    "        # Create a list of all possible 30-minute slots\n",
    "        slots = []\n",
    "        current_time = start_time\n",
    "        while current_time < end_time:\n",
    "            slots.append((current_time, current_time + timedelta(minutes=30)))\n",
    "            current_time += timedelta(minutes=30)\n",
    "\n",
    "        # Count the number of people available for each slot\n",
    "        best_slot = max(slots, key=lambda slot: sum(\n",
    "            1 for avail in availabilities if avail['startTime'] <= slot[0] and avail['endTime'] >= slot[1]\n",
    "        ))\n",
    "\n",
    "        return best_slot[0].isoformat()\n",
    "\n",
    "    except Exception as e:\n",
    "        print(f\"Error finding best time: {str(e)}\")\n",
    "        return None\n",
    "\n",
    "def update_event_time(event_id):\n",
    "    \"\"\"\n",
    "    Update the confirmed time for an event\n",
    "    \n",
    "    Args:\n",
    "        event_id (string): The ID of the event\n",
    "        confirmed_time (string): The confirmed time for the event\n",
    "    \"\"\"\n",
    "    try:\n",
    "        data, count = supabase.table('events').update({\n",
    "            'confirmedTime': confirmed_time\n",
    "        }).eq('eventID', event_id).execute()\n",
    "        \n",
    "        return {'message': 'Event time updated successfully'}\n",
    "    except Exception as e:\n",
    "        return {'error': str(e)}\n",
    "\n",
    "def select_time(event_id):\n",
    "    \"\"\"\n",
    "    Process RSVP for an event\n",
    "    \n",
    "    Args:\n",
    "        event_id (string): The ID of the event\n",
    "    \"\"\"\n",
    "    best_time = find_best_time(event_id)\n",
    "    if best_time:\n",
    "        return update_event_time(event_id, best_time)\n",
    "    else:\n",
    "        return {'error': 'Unable to find a suitable time'}\n",
    "\n",
    "def lambda_handler(event, context):\n",
    "    # Get the action group used during the invocation of the lambda function\n",
    "    action_group = event.get('actionGroup', '')\n",
    "    \n",
    "    # Name of the function that should be invoked\n",
    "    function = event.get('function', '')\n",
    "    \n",
    "    if function == 'create_event':\n",
    "        group_id = get_named_parameter(event, \"group_id\")\n",
    "        period = get_named_parameter(event, \"period\")\n",
    "        description = get_named_parameter(event, \"description\")\n",
    "\n",
    "        if group_id and period and description:\n",
    "            response = create_event(group_id, period, description)\n",
    "            response_body = {'TEXT': {'body': json.dumps(response)}}\n",
    "        else:\n",
    "            response_body = {'TEXT': {'body': 'Missing required parameters'}}\n",
    "\n",
    "    elif function == 'indicate_availability':\n",
    "        user_id = get_named_parameter(event, \"user_id\")\n",
    "        event_id = get_named_parameter(event, \"event_id\")\n",
    "        start_time = get_named_parameter(event, \"start_time\")\n",
    "        end_time = get_named_parameter(event, \"end_time\")\n",
    "\n",
    "        if user_id and event_id and start_time and end_time:\n",
    "            response = indicate_availability(user_id, event_id, start_time, end_time)\n",
    "            response_body = {'TEXT': {'body': json.dumps(response)}}\n",
    "        else:\n",
    "            response_body = {'TEXT': {'body': 'Missing required parameters'}}\n",
    "\n",
    "    elif function == 'select_time':\n",
    "        event_id = get_named_parameter(event, \"event_id\")\n",
    "\n",
    "        if event_id:\n",
    "            response = rsvp(event_id)\n",
    "            response_body = {'TEXT': {'body': json.dumps(response)}}\n",
    "        else:\n",
    "            response_body = {'TEXT': {'body': 'Missing event_id parameter'}}\n",
    "\n",
    "    else:\n",
    "        response_body = {'TEXT': {'body': 'Invalid function'}}\n",
    "\n",
    "    action_response = {\n",
    "        'actionGroup': action_group,\n",
    "        'function': function,\n",
    "        'functionResponse': {\n",
    "            'responseBody': response_body\n",
    "        }\n",
    "    }\n",
    "\n",
    "    function_response = {'response': action_response, 'messageVersion': event['messageVersion']}\n",
    "    print(\"Response: {}\".format(function_response))\n",
    "\n",
    "    return function_response"
   ]
  },
  {
   "cell_type": "code",
   "execution_count": 14,
   "metadata": {
    "pycharm": {
     "name": "#%%\n"
    }
   },
   "outputs": [],
   "source": [
    "# %%writefile lambda_function.py\n",
    "# import json\n",
    "# import uuid\n",
    "# import boto3\n",
    "\n",
    "# dynamodb = boto3.resource('dynamodb')\n",
    "# table = dynamodb.Table('restaurant_bookings')\n",
    "\n",
    "# def get_named_parameter(event, name):\n",
    "#     \"\"\"\n",
    "#     Get a parameter from the lambda event\n",
    "#     \"\"\"\n",
    "#     return next(item for item in event['parameters'] if item['name'] == name)['value']\n",
    "\n",
    "\n",
    "# def get_booking_details(booking_id):\n",
    "#     \"\"\"\n",
    "#     Retrieve details of a restaurant booking\n",
    "    \n",
    "#     Args:\n",
    "#         booking_id (string): The ID of the booking to retrieve\n",
    "#     \"\"\"\n",
    "#     try:\n",
    "#         response = table.get_item(Key={'booking_id': booking_id})\n",
    "#         if 'Item' in response:\n",
    "#             return response['Item']\n",
    "#         else:\n",
    "#             return {'message': f'No booking found with ID {booking_id}'}\n",
    "#     except Exception as e:\n",
    "#         return {'error': str(e)}\n",
    "\n",
    "\n",
    "# def create_booking(date, name, hour, num_guests):\n",
    "#     \"\"\"\n",
    "#     Create a new restaurant booking\n",
    "    \n",
    "#     Args:\n",
    "#         date (string): The date of the booking\n",
    "#         name (string): Name to idenfity your reservation\n",
    "#         hour (string): The hour of the booking\n",
    "#         num_guests (integer): The number of guests for the booking\n",
    "#     \"\"\"\n",
    "#     try:\n",
    "#         booking_id = str(uuid.uuid4())[:8]\n",
    "#         table.put_item(\n",
    "#             Item={\n",
    "#                 'booking_id': booking_id,\n",
    "#                 'date': date,\n",
    "#                 'name': name,\n",
    "#                 'hour': hour,\n",
    "#                 'num_guests': num_guests\n",
    "#             }\n",
    "#         )\n",
    "#         return {'booking_id': booking_id}\n",
    "#     except Exception as e:\n",
    "#         return {'error': str(e)}\n",
    "\n",
    "\n",
    "# def delete_booking(booking_id):\n",
    "#     \"\"\"\n",
    "#     Delete an existing restaurant booking\n",
    "    \n",
    "#     Args:\n",
    "#         booking_id (str): The ID of the booking to delete\n",
    "#     \"\"\"\n",
    "#     try:\n",
    "#         response = table.delete_item(Key={'booking_id': booking_id})\n",
    "#         if response['ResponseMetadata']['HTTPStatusCode'] == 200:\n",
    "#             return {'message': f'Booking with ID {booking_id} deleted successfully'}\n",
    "#         else:\n",
    "#             return {'message': f'Failed to delete booking with ID {booking_id}'}\n",
    "#     except Exception as e:\n",
    "#         return {'error': str(e)}\n",
    "    \n",
    "\n",
    "# def lambda_handler(event, context):\n",
    "#     # get the action group used during the invocation of the lambda function\n",
    "#     actionGroup = event.get('actionGroup', '')\n",
    "    \n",
    "#     # name of the function that should be invoked\n",
    "#     function = event.get('function', '')\n",
    "    \n",
    "#     # parameters to invoke function with\n",
    "#     parameters = event.get('parameters', [])\n",
    "\n",
    "#     if function == 'get_booking_details':\n",
    "#         booking_id = get_named_parameter(event, \"booking_id\")\n",
    "#         if booking_id:\n",
    "#             response = str(get_booking_details(booking_id))\n",
    "#             responseBody = {'TEXT': {'body': json.dumps(response)}}\n",
    "#         else:\n",
    "#             responseBody = {'TEXT': {'body': 'Missing booking_id parameter'}}\n",
    "\n",
    "#     elif function == 'create_booking':\n",
    "#         date = get_named_parameter(event, \"date\")\n",
    "#         name = get_named_parameter(event, \"name\")\n",
    "#         hour = get_named_parameter(event, \"hour\")\n",
    "#         num_guests = get_named_parameter(event, \"num_guests\")\n",
    "\n",
    "#         if date and hour and num_guests:\n",
    "#             response = str(create_booking(date, name, hour, num_guests))\n",
    "#             responseBody = {'TEXT': {'body': json.dumps(response)}}\n",
    "#         else:\n",
    "#             responseBody = {'TEXT': {'body': 'Missing required parameters'}}\n",
    "\n",
    "#     elif function == 'delete_booking':\n",
    "#         booking_id = get_named_parameter(event, \"booking_id\")\n",
    "#         if booking_id:\n",
    "#             response = str(delete_booking(booking_id))\n",
    "#             responseBody = {'TEXT': {'body': json.dumps(response)}}\n",
    "#         else:\n",
    "#             responseBody = {'TEXT': {'body': 'Missing booking_id parameter'}}\n",
    "\n",
    "#     else:\n",
    "#         responseBody = {'TEXT': {'body': 'Invalid function'}}\n",
    "\n",
    "#     action_response = {\n",
    "#         'actionGroup': actionGroup,\n",
    "#         'function': function,\n",
    "#         'functionResponse': {\n",
    "#             'responseBody': responseBody\n",
    "#         }\n",
    "#     }\n",
    "\n",
    "#     function_response = {'response': action_response, 'messageVersion': event['messageVersion']}\n",
    "#     print(\"Response: {}\".format(function_response))\n",
    "\n",
    "#     return function_response"
   ]
  },
  {
   "cell_type": "markdown",
   "metadata": {
    "pycharm": {
     "name": "#%% md\n"
    }
   },
   "source": [
    "Next we create the function requirements for IAM role and policies using the support function `create_lambda_role` and create the lambda using the support function `create_lambda` both from the `agent.py` file"
   ]
  },
  {
   "cell_type": "code",
   "execution_count": 17,
   "metadata": {
    "pycharm": {
     "name": "#%%\n"
    }
   },
   "outputs": [],
   "source": [
    "# lambda_iam_role = create_lambda_role(agent_name, table_name)"
   ]
  },
  {
   "cell_type": "code",
   "execution_count": 18,
   "metadata": {
    "pycharm": {
     "name": "#%%\n"
    }
   },
   "outputs": [],
   "source": [
    "lambda_function_name = f'{agent_name}-lambda'"
   ]
  },
  {
   "cell_type": "code",
   "execution_count": 20,
   "metadata": {
    "pycharm": {
     "name": "#%%\n"
    }
   },
   "outputs": [],
   "source": [
    "# lambda_function = create_lambda(lambda_function_name, lambda_iam_role)"
   ]
  },
  {
   "cell_type": "markdown",
   "metadata": {
    "pycharm": {
     "name": "#%% md\n"
    }
   },
   "source": [
    "### Creating Agent\n",
    "\n",
    "Now that we have created the dynamoDB table and lambda function, let's create our Agent. \n",
    "\n",
    "To do so, we first need to create an agent role and its required policies. Let's do so using the `create_agent_role` function from the `agent.py` file."
   ]
  },
  {
   "cell_type": "code",
   "execution_count": 21,
   "metadata": {
    "pycharm": {
     "name": "#%%\n"
    }
   },
   "outputs": [],
   "source": [
    "agent_role = create_agent_role(agent_name, agent_foundation_model)"
   ]
  },
  {
   "cell_type": "code",
   "execution_count": 22,
   "metadata": {
    "pycharm": {
     "name": "#%%\n"
    }
   },
   "outputs": [
    {
     "data": {
      "text/plain": [
       "{'Role': {'Path': '/',\n",
       "  'RoleName': 'AmazonBedrockExecutionRoleForAgents_scheduling-agent',\n",
       "  'RoleId': 'AROASM2WKUCW4LVQ6QN45',\n",
       "  'Arn': 'arn:aws:iam::165000421549:role/AmazonBedrockExecutionRoleForAgents_scheduling-agent',\n",
       "  'CreateDate': datetime.datetime(2024, 7, 12, 18, 55, 41, tzinfo=tzutc()),\n",
       "  'AssumeRolePolicyDocument': {'Version': '2012-10-17',\n",
       "   'Statement': [{'Effect': 'Allow',\n",
       "     'Principal': {'Service': 'bedrock.amazonaws.com'},\n",
       "     'Action': 'sts:AssumeRole'}]},\n",
       "  'MaxSessionDuration': 3600,\n",
       "  'RoleLastUsed': {}},\n",
       " 'ResponseMetadata': {'RequestId': 'be307d2f-570c-450a-9715-c94d1ba9f466',\n",
       "  'HTTPStatusCode': 200,\n",
       "  'HTTPHeaders': {'date': 'Fri, 12 Jul 2024 19:36:15 GMT',\n",
       "   'x-amzn-requestid': 'be307d2f-570c-450a-9715-c94d1ba9f466',\n",
       "   'content-type': 'text/xml',\n",
       "   'content-length': '894'},\n",
       "  'RetryAttempts': 0}}"
      ]
     },
     "execution_count": 22,
     "metadata": {},
     "output_type": "execute_result"
    }
   ],
   "source": [
    "agent_role"
   ]
  },
  {
   "cell_type": "markdown",
   "metadata": {
    "pycharm": {
     "name": "#%% md\n"
    }
   },
   "source": [
    "With the Agent IAM role created, we can now use the boto3 function [`create_agent`](https://boto3.amazonaws.com/v1/documentation/api/latest/reference/services/bedrock-agent/client/create_agent.html) to create our agent. \n",
    "\n",
    "On the agent creation, all you need to provide is the agent name, foundation model and instruction. We will associate an action group to the agent once it has been created"
   ]
  },
  {
   "cell_type": "code",
   "execution_count": null,
   "metadata": {
    "pycharm": {
     "name": "#%%\n"
    }
   },
   "outputs": [],
   "source": [
    "response = bedrock_agent_client.create_agent(\n",
    "    agentName=agent_name,\n",
    "    agentResourceRoleArn=agent_role['Role']['Arn'],\n",
    "    description=agent_description,\n",
    "    idleSessionTTLInSeconds=1800,\n",
    "    foundationModel=agent_foundation_model,\n",
    "    instruction=agent_instruction,\n",
    ")\n",
    "response"
   ]
  },
  {
   "cell_type": "markdown",
   "metadata": {
    "pycharm": {
     "name": "#%% md\n"
    }
   },
   "source": [
    "Now that our agent has been created, we will retrieve the `agentId`. It will be used to associate the action group to the agent in our next step."
   ]
  },
  {
   "cell_type": "code",
   "execution_count": 24,
   "metadata": {
    "pycharm": {
     "name": "#%%\n"
    }
   },
   "outputs": [
    {
     "name": "stdout",
     "output_type": "stream",
     "text": [
      "The agent id is: BMYPHRKQ4B\n"
     ]
    }
   ],
   "source": [
    "agent_id = response['agent']['agentId']\n",
    "print(\"The agent id is:\",agent_id)"
   ]
  },
  {
   "cell_type": "markdown",
   "metadata": {
    "pycharm": {
     "name": "#%% md\n"
    }
   },
   "source": [
    "#### Create Agent Action Group\n",
    "\n",
    "now that we have created the agent, let's create an [Action Group](https://docs.aws.amazon.com/bedrock/latest/userguide/agents-action-create.html) and associate with the agent. The action group will allow our agent to execute the booking tasks. To do so, we will \"inform\" our agent about the existent functionalities using a [function schema](https://docs.aws.amazon.com/bedrock/latest/userguide/agents-action-function.html) defined in `JSON` format.\n",
    "\n",
    "The function schema requires the function `name`, `description` and `parameters` to be provided. Each parameter has a parameter name, description, type and a boolean flag indicating if the parameter is required.\n",
    "\n",
    "Let's define the functions `JSON` as `agent_functions`"
   ]
  },
  {
   "cell_type": "code",
   "execution_count": null,
   "metadata": {
    "pycharm": {
     "name": "#%%\n"
    }
   },
   "outputs": [],
   "source": [
    "agent_functions = [\n",
    "    {\n",
    "        'name': 'create_event',\n",
    "        'description': 'Create an event for users to attend',\n",
    "        'parameters': {\n",
    "            \"period\": {\n",
    "                \"description\": \"duration of the event in number of hours\",\n",
    "                \"required\": True,\n",
    "                \"type\": \"int\"\n",
    "            },\n",
    "            \"description\": {\n",
    "                \"description\": \"A description of what the event activities will be\",\n",
    "                \"required\": True,\n",
    "                \"type\": \"string\"\n",
    "            }\n",
    "        }\n",
    "    },\n",
    "    {\n",
    "        'name': 'rsvp',\n",
    "        'description': 'Accept user RSVP for a event',\n",
    "        'parameters': {\n",
    "            \"event_id\": {\n",
    "                \"description\": \"The ID of the event the user is RSVPing for\",\n",
    "                \"required\": True,\n",
    "                \"type\": \"string\"\n",
    "            },\n",
    "            \"availiable_time\": {\n",
    "                \"description\": \"The user's available time range. The format is pairs of start:YYYY-MM-DD::HH-MM and end:YYYY-MM-DD::HH-MM indicating the start and end of the user's available time ranges. If the user has multiple available time ranges, submit multiple pairs\",\n",
    "                \"required\": True,\n",
    "                \"type\": \"string\"\n",
    "            },\n",
    "        }\n",
    "    },\n",
    "    {\n",
    "        'name': 'confirm',\n",
    "        'description': 'Delete an existing restaurant booking',\n",
    "        'parameters': {\n",
    "            \"booking_id\": {\n",
    "                \"description\": \"The ID of the \",\n",
    "                \"required\": True,\n",
    "                \"type\": \"string\"\n",
    "            },\n",
    "            \"num_guests\": {\n",
    "                \"description\": \"The date of the booking in the format YYYY-MM-DD\",\n",
    "                \"required\": True,\n",
    "                \"type\": \"integer\"\n",
    "            }\n",
    "        }\n",
    "    },\n",
    "]"
   ]
  },
  {
   "cell_type": "markdown",
   "metadata": {
    "pycharm": {
     "name": "#%% md\n"
    }
   },
   "source": [
    "Now we can use the [`create_agent_action_group`](https://boto3.amazonaws.com/v1/documentation/api/latest/reference/services/bedrock-agent/client/create_agent_action_group.html) function from the boto3 SDK to create the action group"
   ]
  },
  {
   "cell_type": "code",
   "execution_count": null,
   "metadata": {
    "pycharm": {
     "name": "#%%\n"
    }
   },
   "outputs": [],
   "source": [
    "# Pause to make sure agent is created\n",
    "time.sleep(30)\n",
    "\n",
    "# Now, we can configure and create an action group here:\n",
    "agent_action_group_response = bedrock_agent_client.create_agent_action_group(\n",
    "    agentId=agent_id,\n",
    "    agentVersion='DRAFT',\n",
    "    actionGroupExecutor={\n",
    "        'lambda': lambda_function['FunctionArn']\n",
    "    },\n",
    "    actionGroupName=agent_action_group_name,\n",
    "    functionSchema={\n",
    "        'functions': agent_functions\n",
    "    },\n",
    "    description=agent_action_group_description\n",
    ")"
   ]
  },
  {
   "cell_type": "code",
   "execution_count": null,
   "metadata": {
    "pycharm": {
     "name": "#%%\n"
    }
   },
   "outputs": [],
   "source": [
    "agent_action_group_response"
   ]
  },
  {
   "cell_type": "markdown",
   "metadata": {
    "pycharm": {
     "name": "#%% md\n"
    }
   },
   "source": [
    "#### Allowing bedrock to invoke lambda function\n",
    "\n",
    "The last requirement is to add the [resource-based policy](https://docs.aws.amazon.com/bedrock/latest/userguide/agents-permissions.html#agents-permissions-lambda) to allow bedrock to invoke the action group lambda function."
   ]
  },
  {
   "cell_type": "code",
   "execution_count": null,
   "metadata": {
    "pycharm": {
     "name": "#%%\n"
    }
   },
   "outputs": [],
   "source": [
    "# Create allow to invoke permission on lambda\n",
    "lambda_client = boto3.client('lambda')\n",
    "try:\n",
    "    response = lambda_client.add_permission(\n",
    "        FunctionName=lambda_function_name,\n",
    "        StatementId=f'allow_bedrock_{agent_id}',\n",
    "        Action='lambda:InvokeFunction',\n",
    "        Principal='bedrock.amazonaws.com',\n",
    "        SourceArn=f\"arn:aws:bedrock:{region}:{account_id}:agent/{agent_id}\",\n",
    "    )\n",
    "    print(response)\n",
    "except Exception as e:\n",
    "    print(e)"
   ]
  },
  {
   "cell_type": "markdown",
   "metadata": {
    "pycharm": {
     "name": "#%% md\n"
    }
   },
   "source": [
    "#### Preparing agent\n",
    "\n",
    "Before invoking the agent we need to prepare it. Preparing your agent will package all its components, including the security configurations. It will bring the agent into a state where it can be tested in runtime. We will use the [`prepare_agent`](https://boto3.amazonaws.com/v1/documentation/api/latest/reference/services/bedrock-agent/client/prepare_agent.html) function from the boto3 sdk to prepare our agent."
   ]
  },
  {
   "cell_type": "code",
   "execution_count": null,
   "metadata": {
    "pycharm": {
     "name": "#%%\n"
    }
   },
   "outputs": [],
   "source": [
    "response = bedrock_agent_client.prepare_agent(\n",
    "    agentId=agent_id\n",
    ")\n",
    "print(response)\n",
    "# Pause to make sure agent is prepared\n",
    "time.sleep(30)"
   ]
  },
  {
   "cell_type": "markdown",
   "metadata": {
    "pycharm": {
     "name": "#%% md\n"
    }
   },
   "source": [
    "### Invoking Agent\n",
    "\n",
    "Now that our Agent is ready to be used, let's test it. To do so we will use the [`invoke_agent`](https://boto3.amazonaws.com/v1/documentation/api/latest/reference/services/bedrock-agent-runtime/client/invoke_agent.html) function from the boto3 Bedrock runtime client.\n",
    "\n",
    "To invoke an agent, you have to refer to its alias. You can create a new alias, or you can use the test alias to invoke your `DRAFT` agent. The test alias used to invoke the draft agent is `TSTALIASID` and it will work with any agent. \n",
    "\n",
    "\n",
    "We will use the support function called `invoke_agent_helper` from the `agents.py` support file to allow us to invoke the agent with or without trace enabled and with or without session state. We will getinto more details about those concepts in the `03_invoke_agent.ipynb` notebook."
   ]
  },
  {
   "cell_type": "code",
   "execution_count": null,
   "metadata": {
    "pycharm": {
     "name": "#%%\n"
    }
   },
   "outputs": [],
   "source": [
    "alias_id = 'TSTALIASID'"
   ]
  },
  {
   "cell_type": "code",
   "execution_count": null,
   "metadata": {
    "pycharm": {
     "name": "#%%\n"
    }
   },
   "outputs": [],
   "source": [
    "%%time\n",
    "session_id:str = str(uuid.uuid1())\n",
    "query = \"Hi, I am Anna. I want to create a booking for 2 people, at 8pm on the 5th of May 2024.\"\n",
    "response = invoke_agent_helper(query, session_id, agent_id, alias_id)\n",
    "print(response)"
   ]
  },
  {
   "cell_type": "markdown",
   "metadata": {
    "pycharm": {
     "name": "#%% md\n"
    }
   },
   "source": [
    "### Next Steps\n",
    "\n",
    "Before moving to the next notebook, let's store a couple of variables to continue working the the same notebook.\n",
    "\n",
    "Next we will update our agent to associate a knowledge base containing the menus for our restaurant. We will then test the agent invocations and clean up all the created resources."
   ]
  },
  {
   "cell_type": "code",
   "execution_count": null,
   "metadata": {
    "pycharm": {
     "name": "#%%\n"
    },
    "tags": []
   },
   "outputs": [],
   "source": [
    "%store agent_id\n",
    "%store agent_role\n",
    "%store lambda_iam_role\n",
    "%store agent_name\n",
    "%store suffix\n",
    "%store region\n",
    "%store agent_foundation_model\n",
    "%store account_id\n",
    "%store alias_id\n",
    "%store table_name\n",
    "%store lambda_function\n",
    "%store lambda_function_name\n",
    "%store agent_action_group_response\n",
    "%store agent_functions"
   ]
  }
 ],
 "metadata": {
  "availableInstances": [
   {
    "_defaultOrder": 0,
    "_isFastLaunch": true,
    "category": "General purpose",
    "gpuNum": 0,
    "hideHardwareSpecs": false,
    "memoryGiB": 4,
    "name": "ml.t3.medium",
    "vcpuNum": 2
   },
   {
    "_defaultOrder": 1,
    "_isFastLaunch": false,
    "category": "General purpose",
    "gpuNum": 0,
    "hideHardwareSpecs": false,
    "memoryGiB": 8,
    "name": "ml.t3.large",
    "vcpuNum": 2
   },
   {
    "_defaultOrder": 2,
    "_isFastLaunch": false,
    "category": "General purpose",
    "gpuNum": 0,
    "hideHardwareSpecs": false,
    "memoryGiB": 16,
    "name": "ml.t3.xlarge",
    "vcpuNum": 4
   },
   {
    "_defaultOrder": 3,
    "_isFastLaunch": false,
    "category": "General purpose",
    "gpuNum": 0,
    "hideHardwareSpecs": false,
    "memoryGiB": 32,
    "name": "ml.t3.2xlarge",
    "vcpuNum": 8
   },
   {
    "_defaultOrder": 4,
    "_isFastLaunch": true,
    "category": "General purpose",
    "gpuNum": 0,
    "hideHardwareSpecs": false,
    "memoryGiB": 8,
    "name": "ml.m5.large",
    "vcpuNum": 2
   },
   {
    "_defaultOrder": 5,
    "_isFastLaunch": false,
    "category": "General purpose",
    "gpuNum": 0,
    "hideHardwareSpecs": false,
    "memoryGiB": 16,
    "name": "ml.m5.xlarge",
    "vcpuNum": 4
   },
   {
    "_defaultOrder": 6,
    "_isFastLaunch": false,
    "category": "General purpose",
    "gpuNum": 0,
    "hideHardwareSpecs": false,
    "memoryGiB": 32,
    "name": "ml.m5.2xlarge",
    "vcpuNum": 8
   },
   {
    "_defaultOrder": 7,
    "_isFastLaunch": false,
    "category": "General purpose",
    "gpuNum": 0,
    "hideHardwareSpecs": false,
    "memoryGiB": 64,
    "name": "ml.m5.4xlarge",
    "vcpuNum": 16
   },
   {
    "_defaultOrder": 8,
    "_isFastLaunch": false,
    "category": "General purpose",
    "gpuNum": 0,
    "hideHardwareSpecs": false,
    "memoryGiB": 128,
    "name": "ml.m5.8xlarge",
    "vcpuNum": 32
   },
   {
    "_defaultOrder": 9,
    "_isFastLaunch": false,
    "category": "General purpose",
    "gpuNum": 0,
    "hideHardwareSpecs": false,
    "memoryGiB": 192,
    "name": "ml.m5.12xlarge",
    "vcpuNum": 48
   },
   {
    "_defaultOrder": 10,
    "_isFastLaunch": false,
    "category": "General purpose",
    "gpuNum": 0,
    "hideHardwareSpecs": false,
    "memoryGiB": 256,
    "name": "ml.m5.16xlarge",
    "vcpuNum": 64
   },
   {
    "_defaultOrder": 11,
    "_isFastLaunch": false,
    "category": "General purpose",
    "gpuNum": 0,
    "hideHardwareSpecs": false,
    "memoryGiB": 384,
    "name": "ml.m5.24xlarge",
    "vcpuNum": 96
   },
   {
    "_defaultOrder": 12,
    "_isFastLaunch": false,
    "category": "General purpose",
    "gpuNum": 0,
    "hideHardwareSpecs": false,
    "memoryGiB": 8,
    "name": "ml.m5d.large",
    "vcpuNum": 2
   },
   {
    "_defaultOrder": 13,
    "_isFastLaunch": false,
    "category": "General purpose",
    "gpuNum": 0,
    "hideHardwareSpecs": false,
    "memoryGiB": 16,
    "name": "ml.m5d.xlarge",
    "vcpuNum": 4
   },
   {
    "_defaultOrder": 14,
    "_isFastLaunch": false,
    "category": "General purpose",
    "gpuNum": 0,
    "hideHardwareSpecs": false,
    "memoryGiB": 32,
    "name": "ml.m5d.2xlarge",
    "vcpuNum": 8
   },
   {
    "_defaultOrder": 15,
    "_isFastLaunch": false,
    "category": "General purpose",
    "gpuNum": 0,
    "hideHardwareSpecs": false,
    "memoryGiB": 64,
    "name": "ml.m5d.4xlarge",
    "vcpuNum": 16
   },
   {
    "_defaultOrder": 16,
    "_isFastLaunch": false,
    "category": "General purpose",
    "gpuNum": 0,
    "hideHardwareSpecs": false,
    "memoryGiB": 128,
    "name": "ml.m5d.8xlarge",
    "vcpuNum": 32
   },
   {
    "_defaultOrder": 17,
    "_isFastLaunch": false,
    "category": "General purpose",
    "gpuNum": 0,
    "hideHardwareSpecs": false,
    "memoryGiB": 192,
    "name": "ml.m5d.12xlarge",
    "vcpuNum": 48
   },
   {
    "_defaultOrder": 18,
    "_isFastLaunch": false,
    "category": "General purpose",
    "gpuNum": 0,
    "hideHardwareSpecs": false,
    "memoryGiB": 256,
    "name": "ml.m5d.16xlarge",
    "vcpuNum": 64
   },
   {
    "_defaultOrder": 19,
    "_isFastLaunch": false,
    "category": "General purpose",
    "gpuNum": 0,
    "hideHardwareSpecs": false,
    "memoryGiB": 384,
    "name": "ml.m5d.24xlarge",
    "vcpuNum": 96
   },
   {
    "_defaultOrder": 20,
    "_isFastLaunch": false,
    "category": "General purpose",
    "gpuNum": 0,
    "hideHardwareSpecs": true,
    "memoryGiB": 0,
    "name": "ml.geospatial.interactive",
    "supportedImageNames": [
     "sagemaker-geospatial-v1-0"
    ],
    "vcpuNum": 0
   },
   {
    "_defaultOrder": 21,
    "_isFastLaunch": true,
    "category": "Compute optimized",
    "gpuNum": 0,
    "hideHardwareSpecs": false,
    "memoryGiB": 4,
    "name": "ml.c5.large",
    "vcpuNum": 2
   },
   {
    "_defaultOrder": 22,
    "_isFastLaunch": false,
    "category": "Compute optimized",
    "gpuNum": 0,
    "hideHardwareSpecs": false,
    "memoryGiB": 8,
    "name": "ml.c5.xlarge",
    "vcpuNum": 4
   },
   {
    "_defaultOrder": 23,
    "_isFastLaunch": false,
    "category": "Compute optimized",
    "gpuNum": 0,
    "hideHardwareSpecs": false,
    "memoryGiB": 16,
    "name": "ml.c5.2xlarge",
    "vcpuNum": 8
   },
   {
    "_defaultOrder": 24,
    "_isFastLaunch": false,
    "category": "Compute optimized",
    "gpuNum": 0,
    "hideHardwareSpecs": false,
    "memoryGiB": 32,
    "name": "ml.c5.4xlarge",
    "vcpuNum": 16
   },
   {
    "_defaultOrder": 25,
    "_isFastLaunch": false,
    "category": "Compute optimized",
    "gpuNum": 0,
    "hideHardwareSpecs": false,
    "memoryGiB": 72,
    "name": "ml.c5.9xlarge",
    "vcpuNum": 36
   },
   {
    "_defaultOrder": 26,
    "_isFastLaunch": false,
    "category": "Compute optimized",
    "gpuNum": 0,
    "hideHardwareSpecs": false,
    "memoryGiB": 96,
    "name": "ml.c5.12xlarge",
    "vcpuNum": 48
   },
   {
    "_defaultOrder": 27,
    "_isFastLaunch": false,
    "category": "Compute optimized",
    "gpuNum": 0,
    "hideHardwareSpecs": false,
    "memoryGiB": 144,
    "name": "ml.c5.18xlarge",
    "vcpuNum": 72
   },
   {
    "_defaultOrder": 28,
    "_isFastLaunch": false,
    "category": "Compute optimized",
    "gpuNum": 0,
    "hideHardwareSpecs": false,
    "memoryGiB": 192,
    "name": "ml.c5.24xlarge",
    "vcpuNum": 96
   },
   {
    "_defaultOrder": 29,
    "_isFastLaunch": true,
    "category": "Accelerated computing",
    "gpuNum": 1,
    "hideHardwareSpecs": false,
    "memoryGiB": 16,
    "name": "ml.g4dn.xlarge",
    "vcpuNum": 4
   },
   {
    "_defaultOrder": 30,
    "_isFastLaunch": false,
    "category": "Accelerated computing",
    "gpuNum": 1,
    "hideHardwareSpecs": false,
    "memoryGiB": 32,
    "name": "ml.g4dn.2xlarge",
    "vcpuNum": 8
   },
   {
    "_defaultOrder": 31,
    "_isFastLaunch": false,
    "category": "Accelerated computing",
    "gpuNum": 1,
    "hideHardwareSpecs": false,
    "memoryGiB": 64,
    "name": "ml.g4dn.4xlarge",
    "vcpuNum": 16
   },
   {
    "_defaultOrder": 32,
    "_isFastLaunch": false,
    "category": "Accelerated computing",
    "gpuNum": 1,
    "hideHardwareSpecs": false,
    "memoryGiB": 128,
    "name": "ml.g4dn.8xlarge",
    "vcpuNum": 32
   },
   {
    "_defaultOrder": 33,
    "_isFastLaunch": false,
    "category": "Accelerated computing",
    "gpuNum": 4,
    "hideHardwareSpecs": false,
    "memoryGiB": 192,
    "name": "ml.g4dn.12xlarge",
    "vcpuNum": 48
   },
   {
    "_defaultOrder": 34,
    "_isFastLaunch": false,
    "category": "Accelerated computing",
    "gpuNum": 1,
    "hideHardwareSpecs": false,
    "memoryGiB": 256,
    "name": "ml.g4dn.16xlarge",
    "vcpuNum": 64
   },
   {
    "_defaultOrder": 35,
    "_isFastLaunch": false,
    "category": "Accelerated computing",
    "gpuNum": 1,
    "hideHardwareSpecs": false,
    "memoryGiB": 61,
    "name": "ml.p3.2xlarge",
    "vcpuNum": 8
   },
   {
    "_defaultOrder": 36,
    "_isFastLaunch": false,
    "category": "Accelerated computing",
    "gpuNum": 4,
    "hideHardwareSpecs": false,
    "memoryGiB": 244,
    "name": "ml.p3.8xlarge",
    "vcpuNum": 32
   },
   {
    "_defaultOrder": 37,
    "_isFastLaunch": false,
    "category": "Accelerated computing",
    "gpuNum": 8,
    "hideHardwareSpecs": false,
    "memoryGiB": 488,
    "name": "ml.p3.16xlarge",
    "vcpuNum": 64
   },
   {
    "_defaultOrder": 38,
    "_isFastLaunch": false,
    "category": "Accelerated computing",
    "gpuNum": 8,
    "hideHardwareSpecs": false,
    "memoryGiB": 768,
    "name": "ml.p3dn.24xlarge",
    "vcpuNum": 96
   },
   {
    "_defaultOrder": 39,
    "_isFastLaunch": false,
    "category": "Memory Optimized",
    "gpuNum": 0,
    "hideHardwareSpecs": false,
    "memoryGiB": 16,
    "name": "ml.r5.large",
    "vcpuNum": 2
   },
   {
    "_defaultOrder": 40,
    "_isFastLaunch": false,
    "category": "Memory Optimized",
    "gpuNum": 0,
    "hideHardwareSpecs": false,
    "memoryGiB": 32,
    "name": "ml.r5.xlarge",
    "vcpuNum": 4
   },
   {
    "_defaultOrder": 41,
    "_isFastLaunch": false,
    "category": "Memory Optimized",
    "gpuNum": 0,
    "hideHardwareSpecs": false,
    "memoryGiB": 64,
    "name": "ml.r5.2xlarge",
    "vcpuNum": 8
   },
   {
    "_defaultOrder": 42,
    "_isFastLaunch": false,
    "category": "Memory Optimized",
    "gpuNum": 0,
    "hideHardwareSpecs": false,
    "memoryGiB": 128,
    "name": "ml.r5.4xlarge",
    "vcpuNum": 16
   },
   {
    "_defaultOrder": 43,
    "_isFastLaunch": false,
    "category": "Memory Optimized",
    "gpuNum": 0,
    "hideHardwareSpecs": false,
    "memoryGiB": 256,
    "name": "ml.r5.8xlarge",
    "vcpuNum": 32
   },
   {
    "_defaultOrder": 44,
    "_isFastLaunch": false,
    "category": "Memory Optimized",
    "gpuNum": 0,
    "hideHardwareSpecs": false,
    "memoryGiB": 384,
    "name": "ml.r5.12xlarge",
    "vcpuNum": 48
   },
   {
    "_defaultOrder": 45,
    "_isFastLaunch": false,
    "category": "Memory Optimized",
    "gpuNum": 0,
    "hideHardwareSpecs": false,
    "memoryGiB": 512,
    "name": "ml.r5.16xlarge",
    "vcpuNum": 64
   },
   {
    "_defaultOrder": 46,
    "_isFastLaunch": false,
    "category": "Memory Optimized",
    "gpuNum": 0,
    "hideHardwareSpecs": false,
    "memoryGiB": 768,
    "name": "ml.r5.24xlarge",
    "vcpuNum": 96
   },
   {
    "_defaultOrder": 47,
    "_isFastLaunch": false,
    "category": "Accelerated computing",
    "gpuNum": 1,
    "hideHardwareSpecs": false,
    "memoryGiB": 16,
    "name": "ml.g5.xlarge",
    "vcpuNum": 4
   },
   {
    "_defaultOrder": 48,
    "_isFastLaunch": false,
    "category": "Accelerated computing",
    "gpuNum": 1,
    "hideHardwareSpecs": false,
    "memoryGiB": 32,
    "name": "ml.g5.2xlarge",
    "vcpuNum": 8
   },
   {
    "_defaultOrder": 49,
    "_isFastLaunch": false,
    "category": "Accelerated computing",
    "gpuNum": 1,
    "hideHardwareSpecs": false,
    "memoryGiB": 64,
    "name": "ml.g5.4xlarge",
    "vcpuNum": 16
   },
   {
    "_defaultOrder": 50,
    "_isFastLaunch": false,
    "category": "Accelerated computing",
    "gpuNum": 1,
    "hideHardwareSpecs": false,
    "memoryGiB": 128,
    "name": "ml.g5.8xlarge",
    "vcpuNum": 32
   },
   {
    "_defaultOrder": 51,
    "_isFastLaunch": false,
    "category": "Accelerated computing",
    "gpuNum": 1,
    "hideHardwareSpecs": false,
    "memoryGiB": 256,
    "name": "ml.g5.16xlarge",
    "vcpuNum": 64
   },
   {
    "_defaultOrder": 52,
    "_isFastLaunch": false,
    "category": "Accelerated computing",
    "gpuNum": 4,
    "hideHardwareSpecs": false,
    "memoryGiB": 192,
    "name": "ml.g5.12xlarge",
    "vcpuNum": 48
   },
   {
    "_defaultOrder": 53,
    "_isFastLaunch": false,
    "category": "Accelerated computing",
    "gpuNum": 4,
    "hideHardwareSpecs": false,
    "memoryGiB": 384,
    "name": "ml.g5.24xlarge",
    "vcpuNum": 96
   },
   {
    "_defaultOrder": 54,
    "_isFastLaunch": false,
    "category": "Accelerated computing",
    "gpuNum": 8,
    "hideHardwareSpecs": false,
    "memoryGiB": 768,
    "name": "ml.g5.48xlarge",
    "vcpuNum": 192
   },
   {
    "_defaultOrder": 55,
    "_isFastLaunch": false,
    "category": "Accelerated computing",
    "gpuNum": 8,
    "hideHardwareSpecs": false,
    "memoryGiB": 1152,
    "name": "ml.p4d.24xlarge",
    "vcpuNum": 96
   },
   {
    "_defaultOrder": 56,
    "_isFastLaunch": false,
    "category": "Accelerated computing",
    "gpuNum": 8,
    "hideHardwareSpecs": false,
    "memoryGiB": 1152,
    "name": "ml.p4de.24xlarge",
    "vcpuNum": 96
   },
   {
    "_defaultOrder": 57,
    "_isFastLaunch": false,
    "category": "Accelerated computing",
    "gpuNum": 0,
    "hideHardwareSpecs": false,
    "memoryGiB": 32,
    "name": "ml.trn1.2xlarge",
    "vcpuNum": 8
   },
   {
    "_defaultOrder": 58,
    "_isFastLaunch": false,
    "category": "Accelerated computing",
    "gpuNum": 0,
    "hideHardwareSpecs": false,
    "memoryGiB": 512,
    "name": "ml.trn1.32xlarge",
    "vcpuNum": 128
   },
   {
    "_defaultOrder": 59,
    "_isFastLaunch": false,
    "category": "Accelerated computing",
    "gpuNum": 0,
    "hideHardwareSpecs": false,
    "memoryGiB": 512,
    "name": "ml.trn1n.32xlarge",
    "vcpuNum": 128
   }
  ],
  "instance_type": "ml.t3.medium",
  "kernelspec": {
   "display_name": "Python 3 (ipykernel)",
   "language": "python",
   "name": "python3"
  },
  "language_info": {
   "codemirror_mode": {
    "name": "ipython",
    "version": 3
   },
   "file_extension": ".py",
   "mimetype": "text/x-python",
   "name": "python",
   "nbconvert_exporter": "python",
   "pygments_lexer": "ipython3",
   "version": "3.10.14"
  }
 },
 "nbformat": 4,
 "nbformat_minor": 4
}
